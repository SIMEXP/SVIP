{
 "cells": [
  {
   "cell_type": "markdown",
   "metadata": {},
   "source": [
    "# Clean up the subject file"
   ]
  },
  {
   "cell_type": "code",
   "execution_count": 1,
   "metadata": {
    "collapsed": true
   },
   "outputs": [],
   "source": [
    "import os\n",
    "import numpy as np\n",
    "import pandas as pd\n",
    "import nibabel as nib"
   ]
  },
  {
   "cell_type": "code",
   "execution_count": 2,
   "metadata": {
    "collapsed": true
   },
   "outputs": [],
   "source": [
    "# Paths\n",
    "pheno_file = '/data1/guilimin/simons_vip/pheno/dataset_good.csv'\n",
    "raw_path = '/data1/guilimin/simons_vip/scores/scores_11_07/rmap_part/'\n",
    "out_pheno = '/data1/guilimin/simons_vip/pheno/dataset_good_exist.csv'"
   ]
  },
  {
   "cell_type": "code",
   "execution_count": 3,
   "metadata": {
    "collapsed": true
   },
   "outputs": [],
   "source": [
    "pheno = pd.read_csv(pheno_file)\n",
    "pheno.rename(columns={'Unnamed: 0':'Subject'}, inplace=True)"
   ]
  },
  {
   "cell_type": "code",
   "execution_count": 4,
   "metadata": {
    "collapsed": false
   },
   "outputs": [
    {
     "data": {
      "text/html": [
       "<div>\n",
       "<table border=\"1\" class=\"dataframe\">\n",
       "  <thead>\n",
       "    <tr style=\"text-align: right;\">\n",
       "      <th></th>\n",
       "      <th>Subject</th>\n",
       "      <th>frames_scrubbed</th>\n",
       "      <th>frames_OK</th>\n",
       "      <th>FD</th>\n",
       "      <th>FD_scrubbed</th>\n",
       "      <th>session</th>\n",
       "      <th>sex</th>\n",
       "      <th>family</th>\n",
       "      <th>age_months</th>\n",
       "      <th>age_years</th>\n",
       "      <th>genetic_status</th>\n",
       "    </tr>\n",
       "  </thead>\n",
       "  <tbody>\n",
       "    <tr>\n",
       "      <th>0</th>\n",
       "      <td>s14702xx3xFCAP1_session1_rest</td>\n",
       "      <td>39</td>\n",
       "      <td>79</td>\n",
       "      <td>0.305145</td>\n",
       "      <td>0.227978</td>\n",
       "      <td>1</td>\n",
       "      <td>1</td>\n",
       "      <td>14702</td>\n",
       "      <td>95</td>\n",
       "      <td>7.916667</td>\n",
       "      <td>1</td>\n",
       "    </tr>\n",
       "    <tr>\n",
       "      <th>1</th>\n",
       "      <td>s14702xx3xFCAP1_session2_rest</td>\n",
       "      <td>52</td>\n",
       "      <td>66</td>\n",
       "      <td>0.506234</td>\n",
       "      <td>0.195184</td>\n",
       "      <td>2</td>\n",
       "      <td>1</td>\n",
       "      <td>14702</td>\n",
       "      <td>95</td>\n",
       "      <td>7.916667</td>\n",
       "      <td>1</td>\n",
       "    </tr>\n",
       "    <tr>\n",
       "      <th>2</th>\n",
       "      <td>s14703xx3xFCAP1_session1_rest</td>\n",
       "      <td>65</td>\n",
       "      <td>41</td>\n",
       "      <td>0.745727</td>\n",
       "      <td>0.682697</td>\n",
       "      <td>1</td>\n",
       "      <td>2</td>\n",
       "      <td>14703</td>\n",
       "      <td>133</td>\n",
       "      <td>11.083333</td>\n",
       "      <td>1</td>\n",
       "    </tr>\n",
       "    <tr>\n",
       "      <th>3</th>\n",
       "      <td>s14703xx3xFCAP1_session2_rest</td>\n",
       "      <td>66</td>\n",
       "      <td>40</td>\n",
       "      <td>1.868287</td>\n",
       "      <td>1.995649</td>\n",
       "      <td>2</td>\n",
       "      <td>2</td>\n",
       "      <td>14703</td>\n",
       "      <td>133</td>\n",
       "      <td>11.083333</td>\n",
       "      <td>1</td>\n",
       "    </tr>\n",
       "    <tr>\n",
       "      <th>4</th>\n",
       "      <td>s14713xx7xFCAP1_session1_rest</td>\n",
       "      <td>66</td>\n",
       "      <td>40</td>\n",
       "      <td>1.798148</td>\n",
       "      <td>2.804845</td>\n",
       "      <td>1</td>\n",
       "      <td>1</td>\n",
       "      <td>14713</td>\n",
       "      <td>87</td>\n",
       "      <td>7.250000</td>\n",
       "      <td>1</td>\n",
       "    </tr>\n",
       "  </tbody>\n",
       "</table>\n",
       "</div>"
      ],
      "text/plain": [
       "                         Subject  frames_scrubbed  frames_OK        FD  \\\n",
       "0  s14702xx3xFCAP1_session1_rest               39         79  0.305145   \n",
       "1  s14702xx3xFCAP1_session2_rest               52         66  0.506234   \n",
       "2  s14703xx3xFCAP1_session1_rest               65         41  0.745727   \n",
       "3  s14703xx3xFCAP1_session2_rest               66         40  1.868287   \n",
       "4  s14713xx7xFCAP1_session1_rest               66         40  1.798148   \n",
       "\n",
       "   FD_scrubbed  session  sex  family  age_months  age_years  genetic_status  \n",
       "0     0.227978        1    1   14702          95   7.916667               1  \n",
       "1     0.195184        2    1   14702          95   7.916667               1  \n",
       "2     0.682697        1    2   14703         133  11.083333               1  \n",
       "3     1.995649        2    2   14703         133  11.083333               1  \n",
       "4     2.804845        1    1   14713          87   7.250000               1  "
      ]
     },
     "execution_count": 4,
     "metadata": {},
     "output_type": "execute_result"
    }
   ],
   "source": [
    "pheno.head()"
   ]
  },
  {
   "cell_type": "code",
   "execution_count": 5,
   "metadata": {
    "collapsed": false
   },
   "outputs": [
    {
     "name": "stdout",
     "output_type": "stream",
     "text": [
      "s14703xx3xFCAP1_session1_rest_rmap_part.nii.gz does not exist, drop em\n",
      "s14713xx7xFCAP1_session1_rest_rmap_part.nii.gz does not exist, drop em\n",
      "s14718xx5xFCAP1_session1_rest_rmap_part.nii.gz does not exist, drop em\n",
      "s14722xx5xFCAP1_session1_rest_rmap_part.nii.gz does not exist, drop em\n",
      "s14725xx46xFCAP1_session1_rest_rmap_part.nii.gz does not exist, drop em\n",
      "s14725xx51xFCAP1_session1_rest_rmap_part.nii.gz does not exist, drop em\n",
      "s14733xx15xFCAP1_session1_rest_rmap_part.nii.gz does not exist, drop em\n",
      "s14735xx16xFCAP1_session1_rest_rmap_part.nii.gz does not exist, drop em\n",
      "s14735xx31xFCAP1_session1_rest_rmap_part.nii.gz does not exist, drop em\n",
      "s14742xx7xFCAP1_session1_rest_rmap_part.nii.gz does not exist, drop em\n",
      "s14747xx10xFCAP1_session1_rest_rmap_part.nii.gz does not exist, drop em\n",
      "s14755xx17xFCAP1_session1_rest_rmap_part.nii.gz does not exist, drop em\n",
      "s14757xx1xFCAP1_session1_rest_rmap_part.nii.gz does not exist, drop em\n",
      "s14767xx22xFCAP1_session1_rest_rmap_part.nii.gz does not exist, drop em\n",
      "s14767xx27xFCAP1_session1_rest_rmap_part.nii.gz does not exist, drop em\n",
      "s14770xx8xFCAP1_session1_rest_rmap_part.nii.gz does not exist, drop em\n",
      "s14781xx16xFCAP1_session1_rest_rmap_part.nii.gz does not exist, drop em\n",
      "s14784xx15xFCAP1_session1_rest_rmap_part.nii.gz does not exist, drop em\n",
      "s14785xx5xFCAP1_session1_rest_rmap_part.nii.gz does not exist, drop em\n",
      "s14786xx23xFCAP1_session1_rest_rmap_part.nii.gz does not exist, drop em\n",
      "s14787xx3xFCAP1_session1_rest_rmap_part.nii.gz does not exist, drop em\n",
      "s14788xx1xFCAP1_session1_rest_rmap_part.nii.gz does not exist, drop em\n",
      "s14801xx7xFCAP1_session1_rest_rmap_part.nii.gz does not exist, drop em\n",
      "s14817xx1xFCAP1_session1_rest_rmap_part.nii.gz does not exist, drop em\n",
      "s14823xx14xFCAP1_session1_rest_rmap_part.nii.gz does not exist, drop em\n",
      "s14826xx9xFCAP1_session1_rest_rmap_part.nii.gz does not exist, drop em\n",
      "s14845xx1xFCAP1_session1_rest_rmap_part.nii.gz does not exist, drop em\n",
      "s14847xx1xFCAP1_session1_rest_rmap_part.nii.gz does not exist, drop em\n",
      "s14862xx3xFCAP1_session1_rest_rmap_part.nii.gz does not exist, drop em\n",
      "s14862xx7xFCAP1_session1_rest_rmap_part.nii.gz does not exist, drop em\n",
      "s14867xx35xFCAP1_session1_rest_rmap_part.nii.gz does not exist, drop em\n",
      "s14867xx37xFCAP1_session1_rest_rmap_part.nii.gz does not exist, drop em\n",
      "s14871xx1xFCAP1_session1_rest_rmap_part.nii.gz does not exist, drop em\n",
      "s14872xx13xFCAP1_session1_rest_rmap_part.nii.gz does not exist, drop em\n",
      "s14872xx14xFCAP1_session1_rest_rmap_part.nii.gz does not exist, drop em\n",
      "s14873xx1xFCAP1_session1_rest_rmap_part.nii.gz does not exist, drop em\n",
      "s14880xx1xFCAP1_session1_rest_rmap_part.nii.gz does not exist, drop em\n",
      "s14915xx3xFCAP1_session1_rest_rmap_part.nii.gz does not exist, drop em\n",
      "s14917xx1xFCAP1_session1_rest_rmap_part.nii.gz does not exist, drop em\n",
      "s14926xx1xFCAP1_session1_rest_rmap_part.nii.gz does not exist, drop em\n",
      "s14927xx1xFCAP1_session1_rest_rmap_part.nii.gz does not exist, drop em\n",
      "s14928xx1xFCAP1_session1_rest_rmap_part.nii.gz does not exist, drop em\n",
      "s14937xx1xFCAP1_session1_rest_rmap_part.nii.gz does not exist, drop em\n",
      "s14952xx5xFCAP1_session1_rest_rmap_part.nii.gz does not exist, drop em\n",
      "s14954xx1xFCAP1_session1_rest_rmap_part.nii.gz does not exist, drop em\n",
      "s14956xx7xFCAP1_session1_rest_rmap_part.nii.gz does not exist, drop em\n",
      "s14990xx1xFCAP1_session1_rest_rmap_part.nii.gz does not exist, drop em\n",
      "s14991xx3xFCAP1_session1_rest_rmap_part.nii.gz does not exist, drop em\n",
      "s14994xx2xFCAP1_session1_rest_rmap_part.nii.gz does not exist, drop em\n",
      "s15024xx1xFCAP1_session1_rest_rmap_part.nii.gz does not exist, drop em\n",
      "s15043xx1xFCAP1_session1_rest_rmap_part.nii.gz does not exist, drop em\n",
      "s15067xx1xFCAP1_session1_rest_rmap_part.nii.gz does not exist, drop em\n",
      "s15081xx1xFCAP1_session1_rest_rmap_part.nii.gz does not exist, drop em\n"
     ]
    }
   ],
   "source": [
    "# Drop these guys\n",
    "drop = list()\n",
    "for ind, row in pheno.iterrows():\n",
    "    if row.session == 2:\n",
    "        drop.append(ind)\n",
    "        continue\n",
    "    # File that we look for:\n",
    "    fname = '{}_rmap_part.nii.gz'.format(row.Subject)\n",
    "    # Path that we are looking for\n",
    "    fpath = os.path.join(raw_path, fname)\n",
    "    # Does the file exist\n",
    "    if not os.path.isfile(fpath):\n",
    "        print('{} does not exist, drop em'.format(fname))\n",
    "        drop.append(ind)"
   ]
  },
  {
   "cell_type": "code",
   "execution_count": 6,
   "metadata": {
    "collapsed": false
   },
   "outputs": [],
   "source": [
    "use_pheno = pheno.drop(drop)"
   ]
  },
  {
   "cell_type": "code",
   "execution_count": 7,
   "metadata": {
    "collapsed": false
   },
   "outputs": [
    {
     "data": {
      "text/html": [
       "<div>\n",
       "<table border=\"1\" class=\"dataframe\">\n",
       "  <thead>\n",
       "    <tr style=\"text-align: right;\">\n",
       "      <th></th>\n",
       "      <th>Subject</th>\n",
       "      <th>frames_scrubbed</th>\n",
       "      <th>frames_OK</th>\n",
       "      <th>FD</th>\n",
       "      <th>FD_scrubbed</th>\n",
       "      <th>session</th>\n",
       "      <th>sex</th>\n",
       "      <th>family</th>\n",
       "      <th>age_months</th>\n",
       "      <th>age_years</th>\n",
       "      <th>genetic_status</th>\n",
       "    </tr>\n",
       "  </thead>\n",
       "  <tbody>\n",
       "    <tr>\n",
       "      <th>0</th>\n",
       "      <td>s14702xx3xFCAP1_session1_rest</td>\n",
       "      <td>39</td>\n",
       "      <td>79</td>\n",
       "      <td>0.305145</td>\n",
       "      <td>0.227978</td>\n",
       "      <td>1</td>\n",
       "      <td>1</td>\n",
       "      <td>14702</td>\n",
       "      <td>95</td>\n",
       "      <td>7.916667</td>\n",
       "      <td>1</td>\n",
       "    </tr>\n",
       "    <tr>\n",
       "      <th>6</th>\n",
       "      <td>s14714xx18xFCAP1_session1_rest</td>\n",
       "      <td>8</td>\n",
       "      <td>110</td>\n",
       "      <td>0.129200</td>\n",
       "      <td>0.118603</td>\n",
       "      <td>1</td>\n",
       "      <td>1</td>\n",
       "      <td>14714</td>\n",
       "      <td>249</td>\n",
       "      <td>20.750000</td>\n",
       "      <td>1</td>\n",
       "    </tr>\n",
       "    <tr>\n",
       "      <th>12</th>\n",
       "      <td>s14723xx17xFCAP1_session1_rest</td>\n",
       "      <td>51</td>\n",
       "      <td>67</td>\n",
       "      <td>0.241232</td>\n",
       "      <td>0.139836</td>\n",
       "      <td>1</td>\n",
       "      <td>1</td>\n",
       "      <td>14723</td>\n",
       "      <td>60</td>\n",
       "      <td>5.000000</td>\n",
       "      <td>3</td>\n",
       "    </tr>\n",
       "    <tr>\n",
       "      <th>16</th>\n",
       "      <td>s14725xx48xFCAP1_session1_rest</td>\n",
       "      <td>35</td>\n",
       "      <td>83</td>\n",
       "      <td>0.342359</td>\n",
       "      <td>0.249759</td>\n",
       "      <td>1</td>\n",
       "      <td>1</td>\n",
       "      <td>14725</td>\n",
       "      <td>415</td>\n",
       "      <td>34.583333</td>\n",
       "      <td>3</td>\n",
       "    </tr>\n",
       "    <tr>\n",
       "      <th>19</th>\n",
       "      <td>s14729xx5xFCAP1_session1_rest</td>\n",
       "      <td>35</td>\n",
       "      <td>83</td>\n",
       "      <td>0.228533</td>\n",
       "      <td>0.158575</td>\n",
       "      <td>1</td>\n",
       "      <td>1</td>\n",
       "      <td>14729</td>\n",
       "      <td>99</td>\n",
       "      <td>8.250000</td>\n",
       "      <td>1</td>\n",
       "    </tr>\n",
       "  </tbody>\n",
       "</table>\n",
       "</div>"
      ],
      "text/plain": [
       "                           Subject  frames_scrubbed  frames_OK        FD  \\\n",
       "0    s14702xx3xFCAP1_session1_rest               39         79  0.305145   \n",
       "6   s14714xx18xFCAP1_session1_rest                8        110  0.129200   \n",
       "12  s14723xx17xFCAP1_session1_rest               51         67  0.241232   \n",
       "16  s14725xx48xFCAP1_session1_rest               35         83  0.342359   \n",
       "19   s14729xx5xFCAP1_session1_rest               35         83  0.228533   \n",
       "\n",
       "    FD_scrubbed  session  sex  family  age_months  age_years  genetic_status  \n",
       "0      0.227978        1    1   14702          95   7.916667               1  \n",
       "6      0.118603        1    1   14714         249  20.750000               1  \n",
       "12     0.139836        1    1   14723          60   5.000000               3  \n",
       "16     0.249759        1    1   14725         415  34.583333               3  \n",
       "19     0.158575        1    1   14729          99   8.250000               1  "
      ]
     },
     "execution_count": 7,
     "metadata": {},
     "output_type": "execute_result"
    }
   ],
   "source": [
    "use_pheno.head()"
   ]
  },
  {
   "cell_type": "code",
   "execution_count": 8,
   "metadata": {
    "collapsed": false
   },
   "outputs": [
    {
     "data": {
      "text/plain": [
       "(124, 11)"
      ]
     },
     "execution_count": 8,
     "metadata": {},
     "output_type": "execute_result"
    }
   ],
   "source": [
    "use_pheno.shape"
   ]
  },
  {
   "cell_type": "code",
   "execution_count": 9,
   "metadata": {
    "collapsed": false
   },
   "outputs": [
    {
     "data": {
      "text/plain": [
       "2    75\n",
       "1    27\n",
       "3    22\n",
       "Name: genetic_status, dtype: int64"
      ]
     },
     "execution_count": 9,
     "metadata": {},
     "output_type": "execute_result"
    }
   ],
   "source": [
    "use_pheno.genetic_status.value_counts()"
   ]
  },
  {
   "cell_type": "code",
   "execution_count": null,
   "metadata": {
    "collapsed": true
   },
   "outputs": [],
   "source": [
    "use_pheno.rename(columns={'Subject':''}, inplace=True)"
   ]
  },
  {
   "cell_type": "code",
   "execution_count": 10,
   "metadata": {
    "collapsed": true
   },
   "outputs": [],
   "source": [
    "use_pheno.to_csv(out_pheno, index=False)"
   ]
  },
  {
   "cell_type": "code",
   "execution_count": null,
   "metadata": {
    "collapsed": true
   },
   "outputs": [],
   "source": []
  }
 ],
 "metadata": {
  "kernelspec": {
   "display_name": "Python 3.5 (v)",
   "language": "python",
   "name": "py35"
  },
  "language_info": {
   "codemirror_mode": {
    "name": "ipython",
    "version": 3
   },
   "file_extension": ".py",
   "mimetype": "text/x-python",
   "name": "python",
   "nbconvert_exporter": "python",
   "pygments_lexer": "ipython3",
   "version": "3.5.2+"
  }
 },
 "nbformat": 4,
 "nbformat_minor": 1
}
