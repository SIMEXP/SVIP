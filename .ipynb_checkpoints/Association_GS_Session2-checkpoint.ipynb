{
 "cells": [
  {
   "cell_type": "markdown",
   "metadata": {},
   "source": [
    "## # Look at association of genetic status @ session 2"
   ]
  },
  {
   "cell_type": "code",
   "execution_count": 1,
   "metadata": {
    "collapsed": false
   },
   "outputs": [
    {
     "name": "stderr",
     "output_type": "stream",
     "text": [
      "/home/surchs/Venv/py35/lib/python3.5/site-packages/sklearn/cross_validation.py:44: DeprecationWarning: This module was deprecated in version 0.18 in favor of the model_selection module into which all the refactored classes and functions are moved. Also note that the interface of the new CV iterators are different from that of this module. This module will be removed in 0.20.\n",
      "  \"This module will be removed in 0.20.\", DeprecationWarning)\n"
     ]
    }
   ],
   "source": [
    "import numpy as np\n",
    "import scipy as sp\n",
    "import pandas as pd\n",
    "import nilearn as nil\n",
    "import seaborn as sns\n",
    "import nibabel as nib\n",
    "from scipy import io as sio\n",
    "import statsmodels.api as sm\n",
    "from nilearn import plotting as nlp\n",
    "from matplotlib import pyplot as plt\n",
    "import matplotlib.gridspec as gridspec\n",
    "from statsmodels.sandbox.stats import multicomp as smi"
   ]
  },
  {
   "cell_type": "code",
   "execution_count": 2,
   "metadata": {
    "collapsed": true
   },
   "outputs": [],
   "source": [
    "% %matplotlib inline"
   ]
  },
  {
   "cell_type": "code",
   "execution_count": 3,
   "metadata": {
    "collapsed": false
   },
   "outputs": [],
   "source": [
    "# Paths\n",
    "model_path = '/data1/guilimin/simons_vip/pheno/dataset_16p_session2.csv'\n",
    "weights_path = '/data1/guilimin/simons_vip/subtype/subtypes3_16p_session2/subtype_weights.mat'\n",
    "# Use the subtypes from session 1 because they were used here\n",
    "sbt_map_temp= '/data1/guilimin/simons_vip/subtype/subtypes3_16p_session1/network_{}/mean_subtype.nii.gz'"
   ]
  },
  {
   "cell_type": "code",
   "execution_count": 4,
   "metadata": {
    "collapsed": false
   },
   "outputs": [],
   "source": [
    "model = pd.read_csv(model_path, delimiter=',')"
   ]
  },
  {
   "cell_type": "code",
   "execution_count": 5,
   "metadata": {
    "collapsed": false
   },
   "outputs": [],
   "source": [
    "# Add the dummy variables\n",
    "model['g1'] = (model.genetic_status==1).astype(int)\n",
    "model['g2'] = (model.genetic_status==2).astype(int)\n",
    "model['g3'] = (model.genetic_status==3).astype(int)"
   ]
  },
  {
   "cell_type": "code",
   "execution_count": 6,
   "metadata": {
    "collapsed": true
   },
   "outputs": [],
   "source": [
    "tmp = sio.loadmat(weights_path)\n",
    "weights = tmp['weight_mat']"
   ]
  },
  {
   "cell_type": "code",
   "execution_count": 7,
   "metadata": {
    "collapsed": true
   },
   "outputs": [],
   "source": [
    "n_sbt, n_net = weights.shape[1:]"
   ]
  },
  {
   "cell_type": "code",
   "execution_count": 8,
   "metadata": {
    "collapsed": false
   },
   "outputs": [
    {
     "name": "stderr",
     "output_type": "stream",
     "text": [
      "/home/surchs/Venv/py35/lib/python3.5/site-packages/statsmodels/regression/linear_model.py:1191: RuntimeWarning: invalid value encountered in double_scalars\n",
      "  return self.ess/self.df_model\n"
     ]
    }
   ],
   "source": [
    "p_mat = np.zeros((n_sbt, n_net))\n",
    "res_list = list()\n",
    "for nid in range(n_net):\n",
    "    tmp_list = list()\n",
    "    for sid in range(n_sbt):\n",
    "        m = sm.OLS(weights[:, sid, nid], model[['g1','g2','g3']])\n",
    "        res = m.fit()\n",
    "        p_mat[sid, nid] = res.f_pvalue\n",
    "        tmp_list.append(res)\n",
    "    res_list.append(tmp_list)"
   ]
  },
  {
   "cell_type": "code",
   "execution_count": 9,
   "metadata": {
    "collapsed": false
   },
   "outputs": [
    {
     "name": "stderr",
     "output_type": "stream",
     "text": [
      "/home/surchs/Venv/py35/lib/python3.5/site-packages/statsmodels/stats/multitest.py:320: RuntimeWarning: invalid value encountered in less_equal\n",
      "  reject = pvals_sorted <= ecdffactor*alpha\n"
     ]
    }
   ],
   "source": [
    "pcorr_vec = smi.multipletests(p_mat.flatten(), alpha=0.05, method='fdr_bh')\n",
    "pcorr_mat = np.reshape(pcorr_vec[0], (n_sbt, n_net))"
   ]
  },
  {
   "cell_type": "code",
   "execution_count": 10,
   "metadata": {
    "collapsed": false
   },
   "outputs": [
    {
     "data": {
      "text/plain": [
       "array([[False, False, False, False, False, False, False, False, False,\n",
       "        False, False, False],\n",
       "       [False, False, False, False, False, False, False, False, False,\n",
       "        False, False, False],\n",
       "       [False, False, False, False, False, False, False, False, False,\n",
       "        False, False, False]], dtype=bool)"
      ]
     },
     "execution_count": 10,
     "metadata": {},
     "output_type": "execute_result"
    }
   ],
   "source": [
    "pcorr_mat"
   ]
  },
  {
   "cell_type": "code",
   "execution_count": 11,
   "metadata": {
    "collapsed": false
   },
   "outputs": [
    {
     "data": {
      "text/plain": [
       "(3, 12)"
      ]
     },
     "execution_count": 11,
     "metadata": {},
     "output_type": "execute_result"
    }
   ],
   "source": [
    "pcorr_mat.shape"
   ]
  },
  {
   "cell_type": "code",
   "execution_count": 12,
   "metadata": {
    "collapsed": true
   },
   "outputs": [],
   "source": [
    "# Run post hoc tests on the subtypes that show effects\n",
    "hits = np.argwhere(pcorr_mat)\n",
    "n_hits = len(hits)"
   ]
  },
  {
   "cell_type": "code",
   "execution_count": 13,
   "metadata": {
    "collapsed": true
   },
   "outputs": [],
   "source": [
    "# Sort hits by network\n",
    "ind = np.argsort([x[1] for x in hits])\n",
    "hits = hits[ind]"
   ]
  },
  {
   "cell_type": "code",
   "execution_count": 14,
   "metadata": {
    "collapsed": false
   },
   "outputs": [],
   "source": [
    "# Define the post hocs to run\n",
    "post_hocs = 'g1 = g2, g2 = g3, g1 = g3'\n",
    "post_dict = {0:'g1vg2', 1:'g2vg3', 2:'g1vg3'}\n",
    "post_list = list()\n",
    "\n",
    "for hit_sbt, hit_net in hits:\n",
    "    res = res_list[hit_net][hit_sbt]\n",
    "    pvals = res.t_test(post_hocs).pvalue\n",
    "    # FDR\n",
    "    corr = smi.multipletests(pvals, alpha=0.05, method='fdr_bh')\n",
    "    # Store\n",
    "    post_list.append(corr)"
   ]
  },
  {
   "cell_type": "markdown",
   "metadata": {},
   "source": [
    "- G1 - Dels (Autism)\n",
    "- G2 - Controls\n",
    "- G3 - Dups (Schizo)"
   ]
  },
  {
   "cell_type": "code",
   "execution_count": 15,
   "metadata": {
    "collapsed": false
   },
   "outputs": [],
   "source": [
    "# Provide a summary\n",
    "n_plot = 0\n",
    "plot_list = list()\n",
    "for pid, post in enumerate(post_list):\n",
    "    sbt, net = hits[pid]\n",
    "    fdr = post[0]\n",
    "    pval = post[1]\n",
    "    # Find fdr passing\n",
    "    fdr_pass = np.argwhere(fdr)\n",
    "    if fdr_pass.size == 0:\n",
    "        # Nothing passed FDR, shouldn't happen?\n",
    "        print('Net {} Sub {}: Nothing passed FDR\\n'.format(net+1, sbt+1))\n",
    "        continue\n",
    "    \n",
    "    matches = [x[0] for x in fdr_pass]\n",
    "    for match in matches:\n",
    "        print('Net {} Sub {}: {} sig (p={:.4f}) \\n'.format(net+1, sbt+1, post_dict[match], pval[match]))\n",
    "        n_plot += 1\n",
    "        plot_list.append((net, sbt, match, pval[match]))"
   ]
  },
  {
   "cell_type": "code",
   "execution_count": 16,
   "metadata": {
    "collapsed": false,
    "scrolled": false
   },
   "outputs": [
    {
     "data": {
      "text/plain": [
       "<matplotlib.figure.Figure at 0x7f9be84e8390>"
      ]
     },
     "metadata": {},
     "output_type": "display_data"
    }
   ],
   "source": [
    "col = 'k'\n",
    "\n",
    "# Plot these\n",
    "fig = plt.figure(figsize=(12,4*n_plot))\n",
    "gs = gridspec.GridSpec(n_plot, 3, hspace=0.4)\n",
    "for pid, plot in enumerate(plot_list):\n",
    "    net, sbt, match, pval = plot\n",
    "    ax = fig.add_subplot(gs[pid,0])\n",
    "    \n",
    "    if match == 0:\n",
    "        x1, x2 = 0, 1\n",
    "    elif match == 1:\n",
    "        x1, x2 = 1, 2\n",
    "    elif match == 2:\n",
    "        x1, x2 = 0, 2\n",
    "\n",
    "    y = weights[:, sbt, net].max()\n",
    "    h = y*0.1\n",
    "    y += y*0.1\n",
    "    \n",
    "    ax.plot([x1, x1, x2, x2], [y, y+h, y+h, y], lw=1.5, c=col)\n",
    "    ax.text((x1+x2)*.5, y+h, 'p={:.3f}'.format(pval), ha='center', va='bottom', color=col)\n",
    "    sns.boxplot(model.genetic_status, weights[:, sbt, net], ax=ax)\n",
    "    (dn, up) = ax.get_ylim()\n",
    "    ax.set_ylim((dn, up+2*h))\n",
    "    ax.set_title('Net {} Sbt {}'.format(net+1, sbt+1))\n",
    "    \n",
    "    ax2 = fig.add_subplot(gs[pid,1:])\n",
    "    tmp_i = nib.load(sbt_map_temp.format(net+1))\n",
    "    # Load the corresponding network\n",
    "    nlp.plot_stat_map(nil.image.index_img(tmp_i, sbt), display_mode='x', threshold=0, \n",
    "                      cut_coords=[-50, -30, -10, 10, 30, 50], black_bg=True,axes=ax2,\n",
    "                      title='Net {} Sbt {}'.format(net+1, sbt+1))"
   ]
  },
  {
   "cell_type": "code",
   "execution_count": 17,
   "metadata": {
    "collapsed": false
   },
   "outputs": [
    {
     "data": {
      "text/plain": [
       "0"
      ]
     },
     "execution_count": 17,
     "metadata": {},
     "output_type": "execute_result"
    }
   ],
   "source": [
    "n_plot"
   ]
  },
  {
   "cell_type": "code",
   "execution_count": 18,
   "metadata": {
    "collapsed": false
   },
   "outputs": [
    {
     "data": {
      "text/plain": [
       "0"
      ]
     },
     "execution_count": 18,
     "metadata": {},
     "output_type": "execute_result"
    }
   ],
   "source": [
    "n_hits"
   ]
  },
  {
   "cell_type": "code",
   "execution_count": null,
   "metadata": {
    "collapsed": true
   },
   "outputs": [],
   "source": []
  }
 ],
 "metadata": {
  "kernelspec": {
   "display_name": "Python 3.5 (v)",
   "language": "python",
   "name": "py35"
  },
  "language_info": {
   "codemirror_mode": {
    "name": "ipython",
    "version": 3
   },
   "file_extension": ".py",
   "mimetype": "text/x-python",
   "name": "python",
   "nbconvert_exporter": "python",
   "pygments_lexer": "ipython3",
   "version": "3.5.2+"
  }
 },
 "nbformat": 4,
 "nbformat_minor": 1
}
