{
 "cells": [
  {
   "cell_type": "markdown",
   "metadata": {},
   "source": [
    "# Clean up the subject file"
   ]
  },
  {
   "cell_type": "code",
   "execution_count": 1,
   "metadata": {
    "collapsed": true
   },
   "outputs": [],
   "source": [
    "import os\n",
    "import numpy as np\n",
    "import pandas as pd\n",
    "import nibabel as nib"
   ]
  },
  {
   "cell_type": "code",
   "execution_count": 2,
   "metadata": {
    "collapsed": true
   },
   "outputs": [],
   "source": [
    "# Paths\n",
    "pheno_file = '/data1/guilimin/simons_vip/pheno/dataset_good.csv'\n",
    "raw_path = '/data1/guilimin/simons_vip/scores/scores_11_07/rmap_part/'\n",
    "out_pheno = '/data1/guilimin/simons_vip/pheno/dataset_good_exist_session_2.csv'"
   ]
  },
  {
   "cell_type": "code",
   "execution_count": 3,
   "metadata": {
    "collapsed": true
   },
   "outputs": [],
   "source": [
    "pheno = pd.read_csv(pheno_file)\n",
    "pheno.rename(columns={'Unnamed: 0':'Subject'}, inplace=True)"
   ]
  },
  {
   "cell_type": "code",
   "execution_count": 4,
   "metadata": {
    "collapsed": false
   },
   "outputs": [
    {
     "data": {
      "text/html": [
       "<div>\n",
       "<table border=\"1\" class=\"dataframe\">\n",
       "  <thead>\n",
       "    <tr style=\"text-align: right;\">\n",
       "      <th></th>\n",
       "      <th>Subject</th>\n",
       "      <th>frames_scrubbed</th>\n",
       "      <th>frames_OK</th>\n",
       "      <th>FD</th>\n",
       "      <th>FD_scrubbed</th>\n",
       "      <th>session</th>\n",
       "      <th>sex</th>\n",
       "      <th>family</th>\n",
       "      <th>age_months</th>\n",
       "      <th>age_years</th>\n",
       "      <th>genetic_status</th>\n",
       "    </tr>\n",
       "  </thead>\n",
       "  <tbody>\n",
       "    <tr>\n",
       "      <th>0</th>\n",
       "      <td>s14702xx3xFCAP1_session1_rest</td>\n",
       "      <td>39</td>\n",
       "      <td>79</td>\n",
       "      <td>0.305145</td>\n",
       "      <td>0.227978</td>\n",
       "      <td>1</td>\n",
       "      <td>1</td>\n",
       "      <td>14702</td>\n",
       "      <td>95</td>\n",
       "      <td>7.916667</td>\n",
       "      <td>1</td>\n",
       "    </tr>\n",
       "    <tr>\n",
       "      <th>1</th>\n",
       "      <td>s14702xx3xFCAP1_session2_rest</td>\n",
       "      <td>52</td>\n",
       "      <td>66</td>\n",
       "      <td>0.506234</td>\n",
       "      <td>0.195184</td>\n",
       "      <td>2</td>\n",
       "      <td>1</td>\n",
       "      <td>14702</td>\n",
       "      <td>95</td>\n",
       "      <td>7.916667</td>\n",
       "      <td>1</td>\n",
       "    </tr>\n",
       "    <tr>\n",
       "      <th>2</th>\n",
       "      <td>s14703xx3xFCAP1_session1_rest</td>\n",
       "      <td>65</td>\n",
       "      <td>41</td>\n",
       "      <td>0.745727</td>\n",
       "      <td>0.682697</td>\n",
       "      <td>1</td>\n",
       "      <td>2</td>\n",
       "      <td>14703</td>\n",
       "      <td>133</td>\n",
       "      <td>11.083333</td>\n",
       "      <td>1</td>\n",
       "    </tr>\n",
       "    <tr>\n",
       "      <th>3</th>\n",
       "      <td>s14703xx3xFCAP1_session2_rest</td>\n",
       "      <td>66</td>\n",
       "      <td>40</td>\n",
       "      <td>1.868287</td>\n",
       "      <td>1.995649</td>\n",
       "      <td>2</td>\n",
       "      <td>2</td>\n",
       "      <td>14703</td>\n",
       "      <td>133</td>\n",
       "      <td>11.083333</td>\n",
       "      <td>1</td>\n",
       "    </tr>\n",
       "    <tr>\n",
       "      <th>4</th>\n",
       "      <td>s14713xx7xFCAP1_session1_rest</td>\n",
       "      <td>66</td>\n",
       "      <td>40</td>\n",
       "      <td>1.798148</td>\n",
       "      <td>2.804845</td>\n",
       "      <td>1</td>\n",
       "      <td>1</td>\n",
       "      <td>14713</td>\n",
       "      <td>87</td>\n",
       "      <td>7.250000</td>\n",
       "      <td>1</td>\n",
       "    </tr>\n",
       "  </tbody>\n",
       "</table>\n",
       "</div>"
      ],
      "text/plain": [
       "                         Subject  frames_scrubbed  frames_OK        FD  \\\n",
       "0  s14702xx3xFCAP1_session1_rest               39         79  0.305145   \n",
       "1  s14702xx3xFCAP1_session2_rest               52         66  0.506234   \n",
       "2  s14703xx3xFCAP1_session1_rest               65         41  0.745727   \n",
       "3  s14703xx3xFCAP1_session2_rest               66         40  1.868287   \n",
       "4  s14713xx7xFCAP1_session1_rest               66         40  1.798148   \n",
       "\n",
       "   FD_scrubbed  session  sex  family  age_months  age_years  genetic_status  \n",
       "0     0.227978        1    1   14702          95   7.916667               1  \n",
       "1     0.195184        2    1   14702          95   7.916667               1  \n",
       "2     0.682697        1    2   14703         133  11.083333               1  \n",
       "3     1.995649        2    2   14703         133  11.083333               1  \n",
       "4     2.804845        1    1   14713          87   7.250000               1  "
      ]
     },
     "execution_count": 4,
     "metadata": {},
     "output_type": "execute_result"
    }
   ],
   "source": [
    "pheno.head()"
   ]
  },
  {
   "cell_type": "code",
   "execution_count": 5,
   "metadata": {
    "collapsed": false
   },
   "outputs": [
    {
     "name": "stdout",
     "output_type": "stream",
     "text": [
      "s14703xx3xFCAP1_session2_rest_rmap_part.nii.gz does not exist, drop em\n",
      "s14713xx7xFCAP1_session2_rest_rmap_part.nii.gz does not exist, drop em\n",
      "s14718xx5xFCAP1_session2_rest_rmap_part.nii.gz does not exist, drop em\n",
      "s14725xx46xFCAP1_session2_rest_rmap_part.nii.gz does not exist, drop em\n",
      "s14732xx6xFCAP1_session2_rest_rmap_part.nii.gz does not exist, drop em\n",
      "s14733xx15xFCAP1_session2_rest_rmap_part.nii.gz does not exist, drop em\n",
      "s14735xx16xFCAP1_session2_rest_rmap_part.nii.gz does not exist, drop em\n",
      "s14742xx7xFCAP1_session2_rest_rmap_part.nii.gz does not exist, drop em\n",
      "s14747xx10xFCAP1_session2_rest_rmap_part.nii.gz does not exist, drop em\n",
      "s14767xx22xFCAP1_session2_rest_rmap_part.nii.gz does not exist, drop em\n",
      "s14767xx27xFCAP1_session2_rest_rmap_part.nii.gz does not exist, drop em\n",
      "s14770xx8xFCAP1_session2_rest_rmap_part.nii.gz does not exist, drop em\n",
      "s14781xx16xFCAP1_session2_rest_rmap_part.nii.gz does not exist, drop em\n",
      "s14784xx15xFCAP1_session2_rest_rmap_part.nii.gz does not exist, drop em\n",
      "s14786xx23xFCAP1_session2_rest_rmap_part.nii.gz does not exist, drop em\n",
      "s14786xx24xFCAP1_session2_rest_rmap_part.nii.gz does not exist, drop em\n",
      "s14787xx3xFCAP1_session2_rest_rmap_part.nii.gz does not exist, drop em\n",
      "s14792xx10xFCAP1_session2_rest_rmap_part.nii.gz does not exist, drop em\n",
      "s14801xx7xFCAP1_session2_rest_rmap_part.nii.gz does not exist, drop em\n",
      "s14806xx1xFCAP1_session2_rest_rmap_part.nii.gz does not exist, drop em\n",
      "s14823xx14xFCAP1_session2_rest_rmap_part.nii.gz does not exist, drop em\n",
      "s14826xx9xFCAP1_session2_rest_rmap_part.nii.gz does not exist, drop em\n",
      "s14858xx4xFCAP1_session2_rest_rmap_part.nii.gz does not exist, drop em\n",
      "s14861xx1xFCAP1_session2_rest_rmap_part.nii.gz does not exist, drop em\n",
      "s14862xx3xFCAP1_session2_rest_rmap_part.nii.gz does not exist, drop em\n",
      "s14862xx7xFCAP1_session2_rest_rmap_part.nii.gz does not exist, drop em\n",
      "s14867xx37xFCAP1_session2_rest_rmap_part.nii.gz does not exist, drop em\n",
      "s14871xx1xFCAP1_session2_rest_rmap_part.nii.gz does not exist, drop em\n",
      "s14872xx14xFCAP1_session2_rest_rmap_part.nii.gz does not exist, drop em\n",
      "s14873xx1xFCAP1_session2_rest_rmap_part.nii.gz does not exist, drop em\n",
      "s14880xx1xFCAP1_session2_rest_rmap_part.nii.gz does not exist, drop em\n",
      "s14909xx14xFCAP1_session2_rest_rmap_part.nii.gz does not exist, drop em\n",
      "s14912xx1xFCAP1_session2_rest_rmap_part.nii.gz does not exist, drop em\n",
      "s14917xx1xFCAP1_session2_rest_rmap_part.nii.gz does not exist, drop em\n",
      "s14926xx1xFCAP1_session2_rest_rmap_part.nii.gz does not exist, drop em\n",
      "s14927xx1xFCAP1_session2_rest_rmap_part.nii.gz does not exist, drop em\n",
      "s14930xx1xFCAP1_session2_rest_rmap_part.nii.gz does not exist, drop em\n",
      "s14938xx1xFCAP1_session2_rest_rmap_part.nii.gz does not exist, drop em\n",
      "s14951xx1xFCAP1_session2_rest_rmap_part.nii.gz does not exist, drop em\n",
      "s14952xx5xFCAP1_session2_rest_rmap_part.nii.gz does not exist, drop em\n",
      "s14956xx7xFCAP1_session2_rest_rmap_part.nii.gz does not exist, drop em\n",
      "s14967xx25xFCAP1_session2_rest_rmap_part.nii.gz does not exist, drop em\n",
      "s14976xx1xFCAP1_session2_rest_rmap_part.nii.gz does not exist, drop em\n",
      "s14979xx2xFCAP1_session2_rest_rmap_part.nii.gz does not exist, drop em\n",
      "s14985xx1xFCAP1_session2_rest_rmap_part.nii.gz does not exist, drop em\n",
      "s14991xx3xFCAP1_session2_rest_rmap_part.nii.gz does not exist, drop em\n",
      "s14992xx2xFCAP1_session2_rest_rmap_part.nii.gz does not exist, drop em\n",
      "s14994xx2xFCAP1_session2_rest_rmap_part.nii.gz does not exist, drop em\n",
      "s15024xx1xFCAP1_session2_rest_rmap_part.nii.gz does not exist, drop em\n",
      "s15060xx1xFCAP1_session2_rest_rmap_part.nii.gz does not exist, drop em\n",
      "s15067xx1xFCAP1_session2_rest_rmap_part.nii.gz does not exist, drop em\n"
     ]
    }
   ],
   "source": [
    "# Drop these guys\n",
    "drop = list()\n",
    "for ind, row in pheno.iterrows():\n",
    "    if row.session == 1:\n",
    "        drop.append(ind)\n",
    "        continue\n",
    "    # File that we look for:\n",
    "    fname = '{}_rmap_part.nii.gz'.format(row.Subject)\n",
    "    # Path that we are looking for\n",
    "    fpath = os.path.join(raw_path, fname)\n",
    "    # Does the file exist\n",
    "    if not os.path.isfile(fpath):\n",
    "        print('{} does not exist, drop em'.format(fname))\n",
    "        drop.append(ind)"
   ]
  },
  {
   "cell_type": "code",
   "execution_count": 6,
   "metadata": {
    "collapsed": false
   },
   "outputs": [],
   "source": [
    "use_pheno = pheno.drop(drop)"
   ]
  },
  {
   "cell_type": "code",
   "execution_count": 7,
   "metadata": {
    "collapsed": false
   },
   "outputs": [
    {
     "data": {
      "text/html": [
       "<div>\n",
       "<table border=\"1\" class=\"dataframe\">\n",
       "  <thead>\n",
       "    <tr style=\"text-align: right;\">\n",
       "      <th></th>\n",
       "      <th>Subject</th>\n",
       "      <th>frames_scrubbed</th>\n",
       "      <th>frames_OK</th>\n",
       "      <th>FD</th>\n",
       "      <th>FD_scrubbed</th>\n",
       "      <th>session</th>\n",
       "      <th>sex</th>\n",
       "      <th>family</th>\n",
       "      <th>age_months</th>\n",
       "      <th>age_years</th>\n",
       "      <th>genetic_status</th>\n",
       "    </tr>\n",
       "  </thead>\n",
       "  <tbody>\n",
       "    <tr>\n",
       "      <th>1</th>\n",
       "      <td>s14702xx3xFCAP1_session2_rest</td>\n",
       "      <td>52</td>\n",
       "      <td>66</td>\n",
       "      <td>0.506234</td>\n",
       "      <td>0.195184</td>\n",
       "      <td>2</td>\n",
       "      <td>1</td>\n",
       "      <td>14702</td>\n",
       "      <td>95</td>\n",
       "      <td>7.916667</td>\n",
       "      <td>1</td>\n",
       "    </tr>\n",
       "    <tr>\n",
       "      <th>7</th>\n",
       "      <td>s14714xx18xFCAP1_session2_rest</td>\n",
       "      <td>4</td>\n",
       "      <td>114</td>\n",
       "      <td>0.122135</td>\n",
       "      <td>0.118444</td>\n",
       "      <td>2</td>\n",
       "      <td>1</td>\n",
       "      <td>14714</td>\n",
       "      <td>249</td>\n",
       "      <td>20.750000</td>\n",
       "      <td>1</td>\n",
       "    </tr>\n",
       "    <tr>\n",
       "      <th>11</th>\n",
       "      <td>s14722xx5xFCAP1_session2_rest</td>\n",
       "      <td>64</td>\n",
       "      <td>54</td>\n",
       "      <td>0.378234</td>\n",
       "      <td>0.204277</td>\n",
       "      <td>2</td>\n",
       "      <td>1</td>\n",
       "      <td>14722</td>\n",
       "      <td>508</td>\n",
       "      <td>42.333333</td>\n",
       "      <td>3</td>\n",
       "    </tr>\n",
       "    <tr>\n",
       "      <th>13</th>\n",
       "      <td>s14723xx17xFCAP1_session2_rest</td>\n",
       "      <td>23</td>\n",
       "      <td>95</td>\n",
       "      <td>0.221957</td>\n",
       "      <td>0.169639</td>\n",
       "      <td>2</td>\n",
       "      <td>1</td>\n",
       "      <td>14723</td>\n",
       "      <td>60</td>\n",
       "      <td>5.000000</td>\n",
       "      <td>3</td>\n",
       "    </tr>\n",
       "    <tr>\n",
       "      <th>17</th>\n",
       "      <td>s14725xx48xFCAP1_session2_rest</td>\n",
       "      <td>26</td>\n",
       "      <td>92</td>\n",
       "      <td>0.304480</td>\n",
       "      <td>0.208679</td>\n",
       "      <td>2</td>\n",
       "      <td>1</td>\n",
       "      <td>14725</td>\n",
       "      <td>415</td>\n",
       "      <td>34.583333</td>\n",
       "      <td>3</td>\n",
       "    </tr>\n",
       "  </tbody>\n",
       "</table>\n",
       "</div>"
      ],
      "text/plain": [
       "                           Subject  frames_scrubbed  frames_OK        FD  \\\n",
       "1    s14702xx3xFCAP1_session2_rest               52         66  0.506234   \n",
       "7   s14714xx18xFCAP1_session2_rest                4        114  0.122135   \n",
       "11   s14722xx5xFCAP1_session2_rest               64         54  0.378234   \n",
       "13  s14723xx17xFCAP1_session2_rest               23         95  0.221957   \n",
       "17  s14725xx48xFCAP1_session2_rest               26         92  0.304480   \n",
       "\n",
       "    FD_scrubbed  session  sex  family  age_months  age_years  genetic_status  \n",
       "1      0.195184        2    1   14702          95   7.916667               1  \n",
       "7      0.118444        2    1   14714         249  20.750000               1  \n",
       "11     0.204277        2    1   14722         508  42.333333               3  \n",
       "13     0.169639        2    1   14723          60   5.000000               3  \n",
       "17     0.208679        2    1   14725         415  34.583333               3  "
      ]
     },
     "execution_count": 7,
     "metadata": {},
     "output_type": "execute_result"
    }
   ],
   "source": [
    "use_pheno.head()"
   ]
  },
  {
   "cell_type": "code",
   "execution_count": 8,
   "metadata": {
    "collapsed": false
   },
   "outputs": [
    {
     "data": {
      "text/plain": [
       "(111, 11)"
      ]
     },
     "execution_count": 8,
     "metadata": {},
     "output_type": "execute_result"
    }
   ],
   "source": [
    "use_pheno.shape"
   ]
  },
  {
   "cell_type": "code",
   "execution_count": 9,
   "metadata": {
    "collapsed": false
   },
   "outputs": [
    {
     "data": {
      "text/plain": [
       "2    63\n",
       "3    24\n",
       "1    24\n",
       "Name: genetic_status, dtype: int64"
      ]
     },
     "execution_count": 9,
     "metadata": {},
     "output_type": "execute_result"
    }
   ],
   "source": [
    "use_pheno.genetic_status.value_counts()"
   ]
  },
  {
   "cell_type": "code",
   "execution_count": 10,
   "metadata": {
    "collapsed": true
   },
   "outputs": [],
   "source": [
    "use_pheno.rename(columns={'Subject':''}, inplace=True)"
   ]
  },
  {
   "cell_type": "code",
   "execution_count": 11,
   "metadata": {
    "collapsed": true
   },
   "outputs": [],
   "source": [
    "use_pheno.to_csv(out_pheno, index=False)"
   ]
  },
  {
   "cell_type": "code",
   "execution_count": null,
   "metadata": {
    "collapsed": true
   },
   "outputs": [],
   "source": []
  }
 ],
 "metadata": {
  "kernelspec": {
   "display_name": "Python 3.5 (v)",
   "language": "python",
   "name": "py35"
  },
  "language_info": {
   "codemirror_mode": {
    "name": "ipython",
    "version": 3
   },
   "file_extension": ".py",
   "mimetype": "text/x-python",
   "name": "python",
   "nbconvert_exporter": "python",
   "pygments_lexer": "ipython3",
   "version": "3.5.2+"
  }
 },
 "nbformat": 4,
 "nbformat_minor": 1
}
